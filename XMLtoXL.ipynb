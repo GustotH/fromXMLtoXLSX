{
  "nbformat": 4,
  "nbformat_minor": 0,
  "metadata": {
    "kernelspec": {
      "display_name": "Python 3",
      "language": "python",
      "name": "python3"
    },
    "language_info": {
      "codemirror_mode": {
        "name": "ipython",
        "version": 3
      },
      "file_extension": ".py",
      "mimetype": "text/x-python",
      "name": "python",
      "nbconvert_exporter": "python",
      "pygments_lexer": "ipython3",
      "version": "3.8.8"
    },
    "colab": {
      "name": "XMLtoXL.ipynb",
      "provenance": []
    }
  },
  "cells": [
    {
      "cell_type": "code",
      "metadata": {
        "scrolled": false,
        "id": "SLqb2DjIUnf0"
      },
      "source": [
        "import xml.etree.ElementTree as ET\n",
        "import pandas as pd\n",
        "from bs4 import BeautifulSoup\n",
        "from os import listdir\n",
        "\n",
        "xmls = listdir('XML')\n",
        "for xml in xmls :\n",
        "    file = open('XML/'+xml,'r')\n",
        "    contents = file.read()\n",
        "    soup = BeautifulSoup(contents) #,'xml')\n",
        "    aftables = soup.find_all('aftable')\n",
        "    tableNames = []\n",
        "    for table in aftables :\n",
        "        colNames = []\n",
        "        name = table.find('name')\n",
        "        tableNames.append(name.text)\n",
        "        columnsSeq = table.find_all('xs:sequence')\n",
        "        for colSeq in columnsSeq :\n",
        "            columns = colSeq.find_all('xs:element')\n",
        "            for col in columns :\n",
        "                colNames.append(col.attrs['name'].lower())\n",
        "        dataTable = table.find_all('datatable')\n",
        "        data = []\n",
        "        for col in colNames :\n",
        "            colText = dataTable[0].find_all(col)\n",
        "            colData = []\n",
        "            for dat in colText :\n",
        "                colData.append(dat.text)\n",
        "            data.append(colData)\n",
        "        df = pd.DataFrame(data).transpose()\n",
        "        df.columns=colNames\n",
        "        if len(xmls) > 1 :\n",
        "            df.to_excel('XLSX/'+xml[:-4]+'_'+name.text+'.xlsx',index=False)\n",
        "        else : \n",
        "            df.to_excel('XLSX/'+name.text+'.xlsx',index=False)"
      ],
      "execution_count": null,
      "outputs": []
    }
  ]
}